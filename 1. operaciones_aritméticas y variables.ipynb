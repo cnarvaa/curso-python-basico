{
 "cells": [
  {
   "cell_type": "markdown",
   "metadata": {
    "collapsed": false
   },
   "source": [
    "# Operaciones aritméticas\n",
    "* Suma ()\n",
    "* Resta ()\n",
    "* Multiplicación ()\n",
    "* División ()\n",
    "* Módulo ()\n",
    "* Elevado ()\n",
    "* División a piso ()"
   ]
  },
  {
   "cell_type": "markdown",
   "metadata": {
    "collapsed": false
   },
   "source": [
    "## ¿Cuál será el resultado de la siguiente expresión?"
   ]
  },
  {
   "cell_type": "code",
   "execution_count": 1,
   "metadata": {
    "collapsed": false,
    "scrolled": true
   },
   "outputs": [
    {
     "data": {
      "text/plain": [
       "19.0"
      ]
     },
     "execution_count": 1,
     "metadata": {
     },
     "output_type": "execute_result"
    }
   ],
   "source": [
    "2**4+4*3/2+(4%2)-10//3"
   ]
  },
  {
   "cell_type": "markdown",
   "metadata": {
    "collapsed": false
   },
   "source": [
    "Usemos la formula de la conversión de Celsius a Farenheit\n",
    "$$F=\\frac{9}{5}C+32$$\n",
    "Podemos definir una variable usando el símbolo `=`\n",
    "\n",
    "`x=3`\n",
    "\n",
    "Cree las variables para calcular la formula"
   ]
  },
  {
   "cell_type": "code",
   "execution_count": 0,
   "metadata": {
    "collapsed": false
   },
   "outputs": [
   ],
   "source": [
   ]
  },
  {
   "cell_type": "markdown",
   "metadata": {
    "collapsed": false
   },
   "source": [
    "Finalmente, aunque podemos mostrar los resultados con ejecutando la celda, tambien tenemos que aprender a imprimir valores.\n",
    "`print(\"hola mundo\")` nos permite hacerlo."
   ]
  },
  {
   "cell_type": "markdown",
   "metadata": {
    "collapsed": false
   },
   "source": [
   ]
  }
 ],
 "metadata": {
  "kernelspec": {
   "display_name": "Python 3 (system-wide)",
   "language": "python",
   "metadata": {
    "cocalc": {
     "description": "Python 3 programming language",
     "priority": 100,
     "url": "https://www.python.org/"
    }
   },
   "name": "python3"
  },
  "language_info": {
   "codemirror_mode": {
    "name": "ipython",
    "version": 3
   },
   "file_extension": ".py",
   "mimetype": "text/x-python",
   "name": "python",
   "nbconvert_exporter": "python",
   "pygments_lexer": "ipython3",
   "version": "3.6.9"
  }
 },
 "nbformat": 4,
 "nbformat_minor": 4
}